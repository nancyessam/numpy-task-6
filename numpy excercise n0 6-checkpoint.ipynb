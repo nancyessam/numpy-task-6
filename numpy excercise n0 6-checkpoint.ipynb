{
 "cells": [
  {
   "cell_type": "code",
   "execution_count": 1,
   "metadata": {},
   "outputs": [
    {
     "name": "stdout",
     "output_type": "stream",
     "text": [
      "Add:\n",
      "5.0\n",
      "Subtract:\n",
      "-3.0\n",
      "Multiply:\n",
      "4.0\n",
      "Divide:\n",
      "0.25\n"
     ]
    }
   ],
   "source": [
    "#NumPy Mathematics \n",
    "#1- Write a NumPy program to add, subtract, multiply, divide arguments element-wise\n",
    "import numpy as np\n",
    "print(\"Add:\")\n",
    "print(np.add(1.0, 4.0))\n",
    "print(\"Subtract:\")\n",
    "print(np.subtract(1.0, 4.0))\n",
    "print(\"Multiply:\")\n",
    "print(np.multiply(1.0, 4.0))\n",
    "print(\"Divide:\")\n",
    "print(np.divide(1.0, 4.0))"
   ]
  },
  {
   "cell_type": "code",
   "execution_count": 2,
   "metadata": {},
   "outputs": [
    {
     "name": "stdout",
     "output_type": "stream",
     "text": [
      "Logarithm of the sum of exponentiations:\n",
      "-113.87649168120691\n",
      "Logarithm of the sum of exponentiations of the inputs in base-2:\n",
      "-113.59955522772194\n"
     ]
    }
   ],
   "source": [
    "#2-Write a NumPy program to compute logarithm of the sum of exponentiations of the inputs, sum of exponentiations of the inputs in base-2.\n",
    "import numpy as np\n",
    "l1 = np.log(1e-50)\n",
    "l2 = np.log(2.5e-50)\n",
    "print(\"Logarithm of the sum of exponentiations:\")\n",
    "print(np.logaddexp(l1, l2))\n",
    "print(\"Logarithm of the sum of exponentiations of the inputs in base-2:\")\n",
    "print(np.logaddexp2(l1, l2))"
   ]
  },
  {
   "cell_type": "code",
   "execution_count": 4,
   "metadata": {},
   "outputs": [
    {
     "name": "stdout",
     "output_type": "stream",
     "text": [
      "Array...\n",
      " [ 14  28  56  84  56 112]\n",
      "\n",
      "Our Array Dimension...\n",
      " 1\n",
      "\n",
      "Our Array Shape...\n",
      " (6,)\n",
      "\n",
      "Result...\n",
      " [ 2  5 11 16 11 22]\n"
     ]
    }
   ],
   "source": [
    "#3-Write a NumPy program to get the largest integer smaller or equal to the division of the inputs.\n",
    "\n",
    "import numpy as np\n",
    "arr = np.array([14, 28, 56, 84, 56, 112])\n",
    "print(\"Array...\\n\", arr)\n",
    "print(\"\\nOur Array Dimension...\\n\",arr.ndim)\n",
    "print(\"\\nOur Array Shape...\\n\",arr.shape)\n",
    "print(\"\\nResult...\\n\",np.floor_divide(arr, 5))"
   ]
  },
  {
   "cell_type": "code",
   "execution_count": 5,
   "metadata": {},
   "outputs": [
    {
     "name": "stdout",
     "output_type": "stream",
     "text": [
      "Original array\n",
      "[0 1 2 3 4 5 6]\n",
      "First array elements raised to powers from second array, element-wise:\n",
      "[  0   1   8  27  64 125 216]\n"
     ]
    }
   ],
   "source": [
    "#4-Write a NumPy program to get the powers of an array values element-wise. \n",
    "import numpy as np\n",
    "x = np.arange(7)\n",
    "print(\"Original array\")\n",
    "print(x)\n",
    "print(\"First array elements raised to powers from second array, element-wise:\")\n",
    "print(np.power(x, 3))"
   ]
  },
  {
   "cell_type": "code",
   "execution_count": 6,
   "metadata": {},
   "outputs": [
    {
     "name": "stdout",
     "output_type": "stream",
     "text": [
      "Array...\n",
      " [ -5   9  14 -22  76  81  91]\n",
      "\n",
      "Our Array type...\n",
      " int32\n",
      "\n",
      "Our Array Dimension...\n",
      " 1\n",
      "\n",
      "Our Array Shape...\n",
      " (7,)\n",
      "\n",
      "Result...\n",
      " [-2  2  2 -1  0  4  0]\n"
     ]
    }
   ],
   "source": [
    "#5-Write a NumPy program to get the element-wise remainder of an array of division.\n",
    "import numpy as np\n",
    "arr = np.array([-5, 9, 14, -22, 76, 81, 91])\n",
    "print(\"Array...\\n\", arr)\n",
    "print(\"\\nOur Array type...\\n\", arr.dtype)\n",
    "print(\"\\nOur Array Dimension...\\n\",arr.ndim)\n",
    "print(\"\\nOur Array Shape...\\n\",arr.shape)\n",
    "divisor = np.array([3, 7, 3, 3, 2, 7, 7])\n",
    "print(\"\\nResult...\\n\",np.fmod(arr, divisor))"
   ]
  },
  {
   "cell_type": "code",
   "execution_count": 7,
   "metadata": {},
   "outputs": [
    {
     "name": "stdout",
     "output_type": "stream",
     "text": [
      "Original array: \n",
      "[1 3 5 7 0]\n",
      "Difference between neighboring elements, element-wise of the said array.\n",
      "[ 2  2  2 -7]\n"
     ]
    }
   ],
   "source": [
    "#6-Write a NumPy program to calculate the difference between neighboring elements, element-wise of a given array\n",
    "import numpy as np\n",
    "x = np.array([1, 3, 5, 7, 0])\n",
    "print(\"Original array: \")\n",
    "print(x)\n",
    "print(\"Difference between neighboring elements, element-wise of the said array.\")\n",
    "print(np.diff(x))"
   ]
  },
  {
   "cell_type": "code",
   "execution_count": 8,
   "metadata": {},
   "outputs": [
    {
     "name": "stdout",
     "output_type": "stream",
     "text": [
      "Original array: \n",
      "[[1 2 3]\n",
      " [4 5 6]]\n",
      "Cumulative product  of the elements along a given axis:\n",
      "[  1   2   6  24 120 720]\n",
      "\n",
      "Product over rows for each of the 3 columns:\n",
      "[[ 1  2  3]\n",
      " [ 4 10 18]]\n",
      "\n",
      "Product  over columns for each of the 2 rows:\n",
      "[[  1   2   6]\n",
      " [  4  20 120]]\n"
     ]
    }
   ],
   "source": [
    "#7-Write a NumPy program to calculate cumulative product of the elements along a given axis, sum over rows for each of the 3 columns and product over columns for each of the 2 rows of a given 3x3 array\n",
    "import numpy as np\n",
    "x = np.array([[1,2,3], [4,5,6]])\n",
    "print(\"Original array: \")\n",
    "print(x)\n",
    "print(\"Cumulative product  of the elements along a given axis:\")\n",
    "r = np.cumprod(x)\n",
    "print(r)\n",
    "print(\"\\nProduct over rows for each of the 3 columns:\")\n",
    "r = np.cumprod(x,axis=0) \n",
    "print(r)\n",
    "print(\"\\nProduct  over columns for each of the 2 rows:\")\n",
    "r = np.cumprod(x,axis=1) \n",
    "print(r)"
   ]
  },
  {
   "cell_type": "code",
   "execution_count": 9,
   "metadata": {},
   "outputs": [
    {
     "name": "stdout",
     "output_type": "stream",
     "text": [
      "Original array: \n",
      "[1 3 5 7 0]\n",
      "Difference between neighboring elements, element-wise, and prepend [0, 0] and append[200] to the said array:\n",
      "[  0   0   2   2   2  -7 200]\n"
     ]
    }
   ],
   "source": [
    "#8- Write a NumPy program to calculate the difference between neighboring elements, element-wise, and prepend [0, 0] and append[200] to a given array.\n",
    "import numpy as np\n",
    "x = np.array([1, 3, 5, 7, 0])\n",
    "print(\"Original array: \")\n",
    "print(x)\n",
    "r1 = np.ediff1d(x, to_begin=[0, 0], to_end=[200])\n",
    "r2 = np.insert(np.append(np.diff(x), 200), 0, [0, 0])\n",
    "assert np.array_equiv(r1, r2)\n",
    "print(\"Difference between neighboring elements, element-wise, and prepend [0, 0] and append[200] to the said array:\")\n",
    "print(r2)\n"
   ]
  },
  {
   "cell_type": "code",
   "execution_count": 10,
   "metadata": {},
   "outputs": [
    {
     "name": "stdout",
     "output_type": "stream",
     "text": [
      "natural logarithm -\n",
      "[1.79175947 0.69314718 1.09861229 1.38629436 1.60943791]\n",
      "Base 2 logarithm -\n",
      "[2.5849625  1.         1.5849625  2.         2.32192809]\n",
      "Base 10 logarithm -\n",
      "[0.77815125 0.30103    0.47712125 0.60205999 0.69897   ]\n"
     ]
    }
   ],
   "source": [
    "#9-Write a NumPy program to compute natural, base 10, and base 2 logarithms for all elements in a given array\n",
    "# importing numpy\n",
    "import numpy\n",
    "\n",
    "# natural logarithm\n",
    "print(\"natural logarithm -\")\n",
    "arr = numpy.array([6, 2, 3, 4, 5])\n",
    "print(numpy.log(arr))\n",
    "\n",
    "# Base 2 logarithm\n",
    "print(\"Base 2 logarithm -\")\n",
    "arr = numpy.array([6, 2, 3, 4, 5])\n",
    "print(numpy.log2(arr))\n",
    "\n",
    "# Base 10 logarithm\n",
    "print(\"Base 10 logarithm -\")\n",
    "arr = numpy.array([6, 2, 3, 4, 5])\n",
    "print(numpy.log10(arr))\n"
   ]
  },
  {
   "cell_type": "markdown",
   "metadata": {},
   "source": [
    ")#10-Write a NumPy program to compute xy, element-wise where x, y are two given arrays\n",
    "import numpy as np\n",
    "x = np.array([3, 5])\n",
    "y = np.array([2, 5])\n",
    "print(\"Original numbers:\")\n",
    "print(x)\n",
    "print(y)\n",
    "print(\"Comparison - greater\")\n",
    "print(np.greater(x, y))\n",
    "print(\"Comparison - greater_equal\")\n",
    "print(np.greater_equal(x, y))\n",
    "print(\"Comparison - less\")\n",
    "print(np.less(x, y)\n",
    "print(\"Comparison - less_equal\")\n",
    "print(np.less_equal(x, y))"
   ]
  },
  {
   "cell_type": "code",
   "execution_count": 12,
   "metadata": {},
   "outputs": [
    {
     "name": "stdout",
     "output_type": "stream",
     "text": [
      "Original numbers:\n",
      "[3 5]\n",
      "[2 5]\n",
      "Comparison - greater\n",
      "[ True False]\n",
      "Comparison - greater_equal\n",
      "[ True  True]\n",
      "Comparison - less\n",
      "[False False]\n",
      "Comparison - less_equal\n",
      "[False  True]\n"
     ]
    }
   ],
   "source": [
    "#10-Write a NumPy program to compute xy, element-wise where x, y are two given arrays\n",
    "import numpy as np\n",
    "x = np.array([3, 5])\n",
    "y = np.array([2, 5])\n",
    "print(\"Original numbers:\")\n",
    "print(x)\n",
    "print(y)\n",
    "print(\"Comparison - greater\")\n",
    "print(np.greater(x, y))\n",
    "print(\"Comparison - greater_equal\")\n",
    "print(np.greater_equal(x, y))\n",
    "print(\"Comparison - less\")\n",
    "print(np.less(x, y))\n",
    "print(\"Comparison - less_equal\")\n",
    "print(np.less_equal(x, y))"
   ]
  }
 ],
 "metadata": {
  "kernelspec": {
   "display_name": "Python 3",
   "language": "python",
   "name": "python3"
  },
  "language_info": {
   "codemirror_mode": {
    "name": "ipython",
    "version": 3
   },
   "file_extension": ".py",
   "mimetype": "text/x-python",
   "name": "python",
   "nbconvert_exporter": "python",
   "pygments_lexer": "ipython3",
   "version": "3.8.5"
  }
 },
 "nbformat": 4,
 "nbformat_minor": 4
}
